{
 "cells": [
  {
   "cell_type": "code",
   "execution_count": 1,
   "metadata": {},
   "outputs": [],
   "source": [
    "import pandas as pd\n",
    "import glob\n",
    "import tqdm\n"
   ]
  },
  {
   "cell_type": "code",
   "execution_count": 2,
   "metadata": {},
   "outputs": [],
   "source": [
    "# Preprocess text (username and link placeholders)\n",
    "def preprocess(text):\n",
    "    new_text = []\n",
    "    for t in text.split(\" \"):\n",
    "        t = '@user' if t.startswith('@') and len(t) > 1 else t\n",
    "        t = 'http' if t.startswith('http') else t\n",
    "        new_text.append(t)\n",
    "    return \" \".join(new_text)\n"
   ]
  },
  {
   "cell_type": "code",
   "execution_count": 7,
   "metadata": {},
   "outputs": [
    {
     "data": {
      "text/plain": [
       "['raw_data\\\\CES_tweets_2018_fully_cleaned_with_dates.csv',\n",
       " 'raw_data\\\\CES_tweets_2019_fully_cleaned_with_dates.csv',\n",
       " 'raw_data\\\\CES_tweets_2020_fully_cleaned_with_dates.csv',\n",
       " 'raw_data\\\\CES_tweets_2021_fully_cleaned_with_dates.csv',\n",
       " 'raw_data\\\\CES_tweets_2022_fully_cleaned_with_dates.csv']"
      ]
     },
     "execution_count": 7,
     "metadata": {},
     "output_type": "execute_result"
    }
   ],
   "source": [
    "glob.glob('raw_data/CES_*')"
   ]
  },
  {
   "cell_type": "code",
   "execution_count": 5,
   "metadata": {},
   "outputs": [],
   "source": [
    "file_list = glob.glob('..//raw_data/CES_*')\n",
    "pre_processed_dataframes = []\n",
    "year = [2018,2019,2020,2021,2022]"
   ]
  },
  {
   "cell_type": "code",
   "execution_count": null,
   "metadata": {},
   "outputs": [],
   "source": [
    "for idx, file in enumerate(tqdm.tqdm(file_list[:-1])): # Excludes the 2022 due to divergent format explained below in next block.\n",
    "    df = pd.read_csv(file)\n",
    "    df = df[['id', 'date', 'text']]\n",
    "    df['text'] = df['text'].map(preprocess)\n",
    "    df = df.drop_duplicates(subset=['text'])\n",
    "    df.to_csv(f'preprocessed_year_data/processed_{year[idx]}.csv')\n",
    "    pre_processed_dataframes.append(df)\n"
   ]
  },
  {
   "cell_type": "code",
   "execution_count": 6,
   "metadata": {},
   "outputs": [],
   "source": [
    "#The 2022 does not include a pure date column and as such one has to be mapped from the datetime\n",
    "df = pd.read_csv(file_list[-1])\n",
    "df = df[['id', 'datetime', 'text']]\n",
    "df = df.rename(columns={'datetime':'date'})\n",
    "df['date'] = pd.to_datetime(df['date']).dt.date\n",
    "df['text'] = df['text'].map(preprocess)\n",
    "df = df.drop_duplicates(subset=['text'])\n",
    "df.to_csv(f'preprocessed_year_data/processed_{year[-1]}.csv')\n",
    "pre_processed_dataframes.append(df)"
   ]
  },
  {
   "cell_type": "code",
   "execution_count": 13,
   "metadata": {},
   "outputs": [],
   "source": [
    "# If local machine cannot handle the initial RAM load of loading all 5 year .csv files for load,\n",
    "# a post load of the processed files can be done to then collect them into a list as the previous block also attempted:\n",
    "pre_processed_dataframes = []\n",
    "for file in glob.glob('preprocessed_year_data/processed_*.csv'):\n",
    "    pre_processed_dataframes.append(pd.read_csv(file,index_col=0))\n"
   ]
  },
  {
   "cell_type": "code",
   "execution_count": 15,
   "metadata": {},
   "outputs": [],
   "source": [
    "# Concatenates all 5 dataframes into 1 and exports it to its own file\n",
    "pd.concat(pre_processed_dataframes).to_csv('preprocessed_year_data/collected_processed.csv')"
   ]
  }
 ],
 "metadata": {
  "kernelspec": {
   "display_name": "Python 3",
   "language": "python",
   "name": "python3"
  },
  "language_info": {
   "codemirror_mode": {
    "name": "ipython",
    "version": 3
   },
   "file_extension": ".py",
   "mimetype": "text/x-python",
   "name": "python",
   "nbconvert_exporter": "python",
   "pygments_lexer": "ipython3",
   "version": "3.10.10"
  },
  "orig_nbformat": 4
 },
 "nbformat": 4,
 "nbformat_minor": 2
}
