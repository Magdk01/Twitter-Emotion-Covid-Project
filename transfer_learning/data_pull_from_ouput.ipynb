{
 "cells": [
  {
   "cell_type": "code",
   "execution_count": 8,
   "metadata": {},
   "outputs": [],
   "source": [
    "import pandas as pd\n",
    "from glob import glob\n",
    "import re"
   ]
  },
  {
   "cell_type": "code",
   "execution_count": 41,
   "metadata": {},
   "outputs": [
    {
     "data": {
      "text/plain": [
       "'\\\\begin{tabular}{llrrrr}\\n & stamp & t_stat & p_value & base_perpl & transfer_perpl \\\\\\\\\\n0 & 2019_Q4 & 192.432622 & 0.000000 & 33.724543 & 19.502227 \\\\\\\\\\n1 & 2020_Q1 & 187.474544 & 0.000000 & 28.131594 & 18.214346 \\\\\\\\\\n2 & 2020_Q2 & 201.035117 & 0.000000 & 27.229818 & 18.528235 \\\\\\\\\\n3 & 2020_Q3 & 197.364704 & 0.000000 & 29.207673 & 20.258292 \\\\\\\\\\n4 & 2020_Q4 & 182.195972 & 0.000000 & 29.638472 & 20.780881 \\\\\\\\\\n5 & 2021_Q1 & 188.629243 & 0.000000 & 28.584611 & 19.683077 \\\\\\\\\\n6 & 2021_Q2 & 201.005827 & 0.000000 & 26.084379 & 18.414212 \\\\\\\\\\n7 & 2021_Q3 & 217.447581 & 0.000000 & 28.668076 & 19.445785 \\\\\\\\\\n8 & 2021_Q4 & 186.536178 & 0.000000 & 30.423529 & 21.523485 \\\\\\\\\\n9 & 2022_Q1 & 185.158817 & 0.000000 & 30.943235 & 20.768409 \\\\\\\\\\n10 & 2022_Q2 & 210.438430 & 0.000000 & 30.978306 & 20.127142 \\\\\\\\\\n11 & 2022_Q3 & 207.998814 & 0.000000 & 34.397284 & 21.124490 \\\\\\\\\\n12 & 2022_Q4 & 146.269618 & 0.000000 & 53.922146 & 32.123263 \\\\\\\\\\n\\\\end{tabular}\\n'"
      ]
     },
     "execution_count": 41,
     "metadata": {},
     "output_type": "execute_result"
    }
   ],
   "source": [
    "files = glob(\"output_data/*.out\")\n",
    "\n",
    "out = [{\"stamp\": f[12:19], \"t_stat\": float((nums:=re.findall(\"(\\d+\\W\\d+)\", open(f, 'r').read()))[0]), \"p_value\": float(nums[1]), \"base_perpl\": float(nums[2]), \"transfer_perpl\": float(nums[3])} for f in files]\n",
    "pd.DataFrame(out).style.to_latex()"
   ]
  }
 ],
 "metadata": {
  "kernelspec": {
   "display_name": "Python 3",
   "language": "python",
   "name": "python3"
  },
  "language_info": {
   "codemirror_mode": {
    "name": "ipython",
    "version": 3
   },
   "file_extension": ".py",
   "mimetype": "text/x-python",
   "name": "python",
   "nbconvert_exporter": "python",
   "pygments_lexer": "ipython3",
   "version": "3.9.0"
  },
  "orig_nbformat": 4
 },
 "nbformat": 4,
 "nbformat_minor": 2
}
